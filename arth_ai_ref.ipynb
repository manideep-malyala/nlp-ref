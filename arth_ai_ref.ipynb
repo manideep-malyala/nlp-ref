{
  "nbformat": 4,
  "nbformat_minor": 0,
  "metadata": {
    "colab": {
      "provenance": [],
      "authorship_tag": "ABX9TyMcPNLXCAAQRoZKHyJEvPqr",
      "include_colab_link": true
    },
    "kernelspec": {
      "name": "python3",
      "display_name": "Python 3"
    },
    "language_info": {
      "name": "python"
    }
  },
  "cells": [
    {
      "cell_type": "markdown",
      "metadata": {
        "id": "view-in-github",
        "colab_type": "text"
      },
      "source": [
        "<a href=\"https://colab.research.google.com/github/manideep-malyala/nlp-ref/blob/main/arth_ai_ref.ipynb\" target=\"_parent\"><img src=\"https://colab.research.google.com/assets/colab-badge.svg\" alt=\"Open In Colab\"/></a>"
      ]
    },
    {
      "cell_type": "markdown",
      "source": [
        "# TextBlob"
      ],
      "metadata": {
        "id": "hUTvG8m-b4qR"
      }
    },
    {
      "cell_type": "code",
      "execution_count": 1,
      "metadata": {
        "id": "VnA_2LWFE7hF"
      },
      "outputs": [],
      "source": [
        "from textblob import TextBlob"
      ]
    },
    {
      "cell_type": "code",
      "source": [
        "review = \"earth revolves round the sun\""
      ],
      "metadata": {
        "id": "CEdAB0qgHU13"
      },
      "execution_count": 73,
      "outputs": []
    },
    {
      "cell_type": "code",
      "source": [
        "tb_pulse = TextBlob(review)"
      ],
      "metadata": {
        "id": "J4Ez7miDHhLN"
      },
      "execution_count": 74,
      "outputs": []
    },
    {
      "cell_type": "code",
      "source": [
        "tb_pulse.sentiment"
      ],
      "metadata": {
        "id": "aQLgThDMHnlE"
      },
      "execution_count": null,
      "outputs": []
    },
    {
      "cell_type": "markdown",
      "source": [
        "# Sentiment Analysis"
      ],
      "metadata": {
        "id": "aP6iVfkEbx9o"
      }
    },
    {
      "cell_type": "code",
      "source": [
        "!wget https://raw.githubusercontent.com/sharmaroshan/Amazon-Alexa-Reviews/master/amazon_alexa.tsv"
      ],
      "metadata": {
        "id": "bPpVvTmkNbgn"
      },
      "execution_count": null,
      "outputs": []
    },
    {
      "cell_type": "code",
      "source": [
        "import pandas as pd"
      ],
      "metadata": {
        "id": "FnhSKgH6NPKV"
      },
      "execution_count": 29,
      "outputs": []
    },
    {
      "cell_type": "code",
      "source": [
        "data_set = pd.read_csv(\"amazon_alexa.tsv\", delimiter=\"\\t\")"
      ],
      "metadata": {
        "id": "99QEJE-5NzjA"
      },
      "execution_count": 32,
      "outputs": []
    },
    {
      "cell_type": "code",
      "source": [
        "data_set"
      ],
      "metadata": {
        "id": "KrtxZBmoO7CP"
      },
      "execution_count": null,
      "outputs": []
    },
    {
      "cell_type": "code",
      "source": [
        "data_set.columns"
      ],
      "metadata": {
        "colab": {
          "base_uri": "https://localhost:8080/"
        },
        "id": "QVaEMbIZO7yn",
        "outputId": "1086367f-ebb0-44af-8f22-61b8edb4cb8a"
      },
      "execution_count": 34,
      "outputs": [
        {
          "output_type": "execute_result",
          "data": {
            "text/plain": [
              "Index(['rating', 'date', 'variation', 'verified_reviews', 'feedback'], dtype='object')"
            ]
          },
          "metadata": {},
          "execution_count": 34
        }
      ]
    },
    {
      "cell_type": "code",
      "source": [
        "type(data_set)"
      ],
      "metadata": {
        "colab": {
          "base_uri": "https://localhost:8080/"
        },
        "id": "I30-tRBlPJFq",
        "outputId": "4aded6db-7406-4d54-ff31-dd6d1d35defc"
      },
      "execution_count": 35,
      "outputs": [
        {
          "output_type": "execute_result",
          "data": {
            "text/plain": [
              "pandas.core.frame.DataFrame"
            ]
          },
          "metadata": {},
          "execution_count": 35
        }
      ]
    },
    {
      "cell_type": "code",
      "source": [
        "data_set.describe()"
      ],
      "metadata": {
        "id": "ZQph5HRBPSnx"
      },
      "execution_count": null,
      "outputs": []
    },
    {
      "cell_type": "code",
      "source": [
        "data_set.info()"
      ],
      "metadata": {
        "id": "b9tdmH5EPpCV"
      },
      "execution_count": null,
      "outputs": []
    },
    {
      "cell_type": "code",
      "source": [
        "data_set.describe(include=\"object\")"
      ],
      "metadata": {
        "id": "912wR_U8Prq0"
      },
      "execution_count": null,
      "outputs": []
    },
    {
      "cell_type": "code",
      "source": [
        "data_set[\"variation\"].value_counts()"
      ],
      "metadata": {
        "id": "bOKOxrCsQYSl"
      },
      "execution_count": null,
      "outputs": []
    },
    {
      "cell_type": "code",
      "source": [
        "data_set[\"length\"] = data_set[\"verified_reviews\"].apply(len)"
      ],
      "metadata": {
        "id": "iGyaybCCQ0pw"
      },
      "execution_count": 50,
      "outputs": []
    },
    {
      "cell_type": "code",
      "source": [
        "data_set"
      ],
      "metadata": {
        "id": "y9Ww8YVqbgid"
      },
      "execution_count": null,
      "outputs": []
    },
    {
      "cell_type": "code",
      "source": [
        "def get_sentiments_pol(review):\n",
        "  t_blob = TextBlob(review)\n",
        "  return t_blob.sentiment.polarity"
      ],
      "metadata": {
        "id": "Nsu6F7nVfAZI"
      },
      "execution_count": 58,
      "outputs": []
    },
    {
      "cell_type": "code",
      "source": [
        "data_set[\"polarity\"] = data_set[\"verified_reviews\"].apply(get_sentiments_pol)"
      ],
      "metadata": {
        "id": "WB-GVksafXka"
      },
      "execution_count": 59,
      "outputs": []
    },
    {
      "cell_type": "code",
      "source": [
        "data_set"
      ],
      "metadata": {
        "id": "aYEejpaFgGst"
      },
      "execution_count": null,
      "outputs": []
    },
    {
      "cell_type": "code",
      "source": [
        "def get_sentiments_subj(review):\n",
        "  t_blob = TextBlob(review)\n",
        "  return t_blob.sentiment.subjectivity"
      ],
      "metadata": {
        "id": "KCQ5ZYyhhFIM"
      },
      "execution_count": 62,
      "outputs": []
    },
    {
      "cell_type": "code",
      "source": [
        "data_set[\"subjectivity\"] = data_set[\"verified_reviews\"].apply(get_sentiments_subj)"
      ],
      "metadata": {
        "id": "r5dS11c4hOuB"
      },
      "execution_count": 66,
      "outputs": []
    },
    {
      "cell_type": "code",
      "source": [
        "data_set\n"
      ],
      "metadata": {
        "id": "ZEVGhrNThg-L"
      },
      "execution_count": null,
      "outputs": []
    },
    {
      "cell_type": "code",
      "source": [
        "data_set[ [ \"length\", \"polarity\", \"subjectivity\"]].describe()"
      ],
      "metadata": {
        "id": "VziaiwNzhoAO"
      },
      "execution_count": null,
      "outputs": []
    },
    {
      "cell_type": "code",
      "source": [
        "# most given feedback :positive\n",
        "# avg feedback : positive"
      ],
      "metadata": {
        "id": "n_OA1o_ijGVM"
      },
      "execution_count": 72,
      "outputs": []
    }
  ]
}